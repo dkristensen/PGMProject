{
 "cells": [
  {
   "cell_type": "markdown",
   "metadata": {},
   "source": [
    "To use it, you need to define 2 paths:\n",
    "- project_path (path to the folder name project_eval in git) **in line 3**\n",
    "- data_path (path to the data on your computer) **in line 11**"
   ]
  },
  {
   "cell_type": "markdown",
   "metadata": {},
   "source": [
    "# Loading EEG eval"
   ]
  },
  {
   "cell_type": "code",
   "execution_count": 1,
   "metadata": {
    "collapsed": true
   },
   "outputs": [],
   "source": [
    "from importlib.util import spec_from_file_location, module_from_spec"
   ]
  },
  {
   "cell_type": "code",
   "execution_count": 2,
   "metadata": {
    "collapsed": true
   },
   "outputs": [],
   "source": [
    "import os"
   ]
  },
  {
   "cell_type": "code",
   "execution_count": 3,
   "metadata": {
    "collapsed": true
   },
   "outputs": [],
   "source": [
    "project_path = r'C:\\Users\\Antoine CHEHIRE\\IdeaProjects\\IFT6269_Project'"
   ]
  },
  {
   "cell_type": "code",
   "execution_count": 4,
   "metadata": {
    "collapsed": true
   },
   "outputs": [],
   "source": [
    "eeg_eval_path = os.path.join(project_path, 'Evaluation.py')\n",
    "predictor_path = os.path.join(project_path, 'Predictors.py')"
   ]
  },
  {
   "cell_type": "code",
   "execution_count": 5,
   "metadata": {
    "collapsed": true
   },
   "outputs": [],
   "source": [
    "spec = spec_from_file_location('EEG eval', eeg_eval_path)\n",
    "eeg_eval = module_from_spec(spec)\n",
    "spec.loader.exec_module(eeg_eval)\n",
    "\n",
    "spec = spec_from_file_location('Predictors', predictor_path)\n",
    "preds = module_from_spec(spec)\n",
    "spec.loader.exec_module(preds)"
   ]
  },
  {
   "cell_type": "markdown",
   "metadata": {},
   "source": [
    "# Loading the filter"
   ]
  },
  {
   "cell_type": "code",
   "execution_count": 6,
   "metadata": {
    "collapsed": true
   },
   "outputs": [],
   "source": [
    "import numpy as np"
   ]
  },
  {
   "cell_type": "code",
   "execution_count": 18,
   "metadata": {
    "collapsed": true
   },
   "outputs": [],
   "source": [
    "class KalmanFilter:\n",
    "    \n",
    "    name = \"Kalman Filter 2\"\n",
    "    \n",
    "    starting_value = 0.001\n",
    "    default_state_diagonal = 0.05\n",
    "    \n",
    "    def __init__(self, verbose=1):\n",
    "        self.features = None\n",
    "        self.state_estimate = None\n",
    "        self.state_cov = None\n",
    "        self.transition_matrix = None\n",
    "        self.noise_cov = None\n",
    "        self.obs_model = None\n",
    "        self.obs_cov = None\n",
    "        self.verbose = verbose\n",
    "    \n",
    "    def init_states(self, n_features, sfreq_times_noise_sensitivity=256, trans_param=0.000001):\n",
    "        self.features = n_features\n",
    "        \n",
    "        self.state_estimate = (np.ones(self.features)*KalmanFilter.starting_value).reshape(self.features,1)\n",
    "        self.state_cov = np.diag([KalmanFilter.default_state_diagonal]*self.features)\n",
    "\n",
    "        self.transition_matrix = (np.eye(self.features)+(np.ones(shape=(self.features,self.features))-np.eye(self.features))*trans_param)\n",
    "        \n",
    "        self.noise_cov = np.eye(self.features)/(sfreq_times_noise_sensitivity)\n",
    "\n",
    "        self.obs_model = np.eye(self.features)\n",
    "        self.obs_cov = np.eye(self.features)\n",
    "        \n",
    "    def predict(self):\n",
    "        state_estimate = np.matmul(self.transition_matrix, self.state_estimate)\n",
    "        state_cov = np.matmul(self.transition_matrix, np.matmul(self.state_cov, self.transition_matrix.T)) + self.noise_cov\n",
    "        return state_estimate,state_cov \n",
    "    \n",
    "    def update(self,data):\n",
    "        innovation_prefit = data - np.matmul(self.obs_model,self.state_estimate) \n",
    "        innovation_covariance = self.obs_cov + np.matmul(self.obs_model,np.matmul(self.state_cov,self.obs_model.T))\n",
    "\n",
    "        Kalman_gain = np.matmul(self.state_cov,np.matmul(self.obs_model.T,np.linalg.inv(innovation_covariance)))\n",
    "        \n",
    "        updated_state = self.state_estimate+np.matmul(Kalman_gain,innovation_prefit)\n",
    "        state_cov_helper = np.identity(Kalman_gain.shape[0])-np.matmul(Kalman_gain,self.obs_model)\n",
    "        \n",
    "        updated_state_cov = np.matmul(state_cov_helper,np.matmul(self.state_cov,state_cov_helper.T)) + np.matmul(Kalman_gain,np.matmul(self.obs_cov,Kalman_gain.T))\n",
    "        innovation_postfit = data - np.matmul(self.obs_model,updated_state)\n",
    "        \n",
    "        return updated_state,updated_state_cov,innovation_prefit,innovation_postfit\n",
    "    \n",
    "    def generate_features(self, data):\n",
    "        \n",
    "        N_iter, n_features = data.shape\n",
    "        \n",
    "        self.init_states(n_features)\n",
    "        \n",
    "        self.state_estimate = data[0].reshape(self.features,1)\n",
    "        estimates = np.zeros_like(data)\n",
    "        for i in range(N_iter):\n",
    "            if self.verbose:\n",
    "                if(i%(int(N_iter/10)) == 0):\n",
    "                    print(round(i/N_iter),\"/\", N_iter)\n",
    "            self.state_estimate,self.state_cov = self.predict()\n",
    "            self.state_estimate,self.state_cov, prefit, postfit = self.update(data[i].reshape(self.features,1))\n",
    "            estimates[i] = self.state_estimate.reshape(self.features)\n",
    "        return estimates"
   ]
  },
  {
   "cell_type": "code",
   "execution_count": 19,
   "metadata": {
    "collapsed": true
   },
   "outputs": [],
   "source": [
    "algorithm = KalmanFilter(0)"
   ]
  },
  {
   "cell_type": "markdown",
   "metadata": {},
   "source": [
    "# Loading predictor"
   ]
  },
  {
   "cell_type": "code",
   "execution_count": 9,
   "metadata": {
    "collapsed": true
   },
   "outputs": [],
   "source": [
    "pred = preds.LogReg()"
   ]
  },
  {
   "cell_type": "markdown",
   "metadata": {},
   "source": [
    "No need to optimize parameters yet. It takes too long and doesn't improve results too much. So let's impose default sklearn."
   ]
  },
  {
   "cell_type": "code",
   "execution_count": 10,
   "metadata": {
    "collapsed": true
   },
   "outputs": [],
   "source": [
    "pred.hyper_parameters_grid = {'C': [1]}"
   ]
  },
  {
   "cell_type": "markdown",
   "metadata": {},
   "source": [
    "# Evaluating"
   ]
  },
  {
   "cell_type": "code",
   "execution_count": 11,
   "metadata": {
    "collapsed": true
   },
   "outputs": [],
   "source": [
    "eeg = eeg_eval.EEGEval()"
   ]
  },
  {
   "cell_type": "code",
   "execution_count": 12,
   "metadata": {
    "collapsed": true
   },
   "outputs": [],
   "source": [
    "data_path = r'D:\\Scolaire\\UdeM\\IFT_6269\\PROJECT\\data\\kaggle_small'"
   ]
  },
  {
   "cell_type": "code",
   "execution_count": 13,
   "metadata": {
    "collapsed": true
   },
   "outputs": [],
   "source": [
    "from time import time"
   ]
  },
  {
   "cell_type": "code",
   "execution_count": 20,
   "metadata": {
    "scrolled": true
   },
   "outputs": [
    {
     "name": "stdout",
     "output_type": "stream",
     "text": [
      "Generating features...\n",
      "Scoring 1 out of 6...\n",
      "Best params obtained: {'C': 1}\n",
      "Scoring 2 out of 6...\n",
      "Best params obtained: {'C': 1}\n",
      "Scoring 3 out of 6...\n",
      "Best params obtained: {'C': 1}\n",
      "Scoring 4 out of 6...\n",
      "Best params obtained: {'C': 1}\n",
      "Scoring 5 out of 6...\n",
      "Best params obtained: {'C': 1}\n",
      "Scoring 6 out of 6...\n",
      "Best params obtained: {'C': 1}\n"
     ]
    },
    {
     "data": {
      "text/plain": [
       "730.6448423862457"
      ]
     },
     "execution_count": 20,
     "metadata": {},
     "output_type": "execute_result"
    }
   ],
   "source": [
    "t0 = time()\n",
    "eeg.evaluate(data_path, algorithm, pred, cv_fold=1, sub_select=1, verbose=2)\n",
    "time() - t0"
   ]
  },
  {
   "cell_type": "code",
   "execution_count": 14,
   "metadata": {},
   "outputs": [
    {
     "data": {
      "text/html": [
       "<div>\n",
       "<style>\n",
       "    .dataframe thead tr:only-child th {\n",
       "        text-align: right;\n",
       "    }\n",
       "\n",
       "    .dataframe thead th {\n",
       "        text-align: left;\n",
       "    }\n",
       "\n",
       "    .dataframe tbody tr th {\n",
       "        vertical-align: top;\n",
       "    }\n",
       "</style>\n",
       "<table border=\"1\" class=\"dataframe\">\n",
       "  <thead>\n",
       "    <tr style=\"text-align: right;\">\n",
       "      <th></th>\n",
       "      <th>Algo time</th>\n",
       "      <th>Accuracy 0</th>\n",
       "      <th>Precision 0</th>\n",
       "      <th>Recall 0</th>\n",
       "      <th>F1-score 0</th>\n",
       "      <th>Accuracy 1</th>\n",
       "      <th>Precision 1</th>\n",
       "      <th>Recall 1</th>\n",
       "      <th>F1-score 1</th>\n",
       "      <th>Accuracy 2</th>\n",
       "      <th>...</th>\n",
       "      <th>Recall 3</th>\n",
       "      <th>F1-score 3</th>\n",
       "      <th>Accuracy 4</th>\n",
       "      <th>Precision 4</th>\n",
       "      <th>Recall 4</th>\n",
       "      <th>F1-score 4</th>\n",
       "      <th>Accuracy 5</th>\n",
       "      <th>Precision 5</th>\n",
       "      <th>Recall 5</th>\n",
       "      <th>F1-score 5</th>\n",
       "    </tr>\n",
       "  </thead>\n",
       "  <tbody>\n",
       "    <tr>\n",
       "      <th>Raw data - LogReg</th>\n",
       "      <td>10.62</td>\n",
       "      <td>53.34</td>\n",
       "      <td>54.06</td>\n",
       "      <td>44.41</td>\n",
       "      <td>48.76</td>\n",
       "      <td>55.5</td>\n",
       "      <td>56.36</td>\n",
       "      <td>48.77</td>\n",
       "      <td>52.29</td>\n",
       "      <td>57.73</td>\n",
       "      <td>...</td>\n",
       "      <td>51.28</td>\n",
       "      <td>52.52</td>\n",
       "      <td>54.8</td>\n",
       "      <td>54.01</td>\n",
       "      <td>64.64</td>\n",
       "      <td>58.85</td>\n",
       "      <td>52.46</td>\n",
       "      <td>52.18</td>\n",
       "      <td>58.97</td>\n",
       "      <td>55.37</td>\n",
       "    </tr>\n",
       "  </tbody>\n",
       "</table>\n",
       "<p>1 rows × 25 columns</p>\n",
       "</div>"
      ],
      "text/plain": [
       "                   Algo time  Accuracy 0  Precision 0  Recall 0  F1-score 0  \\\n",
       "Raw data - LogReg      10.62       53.34        54.06     44.41       48.76   \n",
       "\n",
       "                   Accuracy 1  Precision 1  Recall 1  F1-score 1  Accuracy 2  \\\n",
       "Raw data - LogReg        55.5        56.36     48.77       52.29       57.73   \n",
       "\n",
       "                      ...      Recall 3  F1-score 3  Accuracy 4  Precision 4  \\\n",
       "Raw data - LogReg     ...         51.28       52.52        54.8        54.01   \n",
       "\n",
       "                   Recall 4  F1-score 4  Accuracy 5  Precision 5  Recall 5  \\\n",
       "Raw data - LogReg     64.64       58.85       52.46        52.18     58.97   \n",
       "\n",
       "                   F1-score 5  \n",
       "Raw data - LogReg       55.37  \n",
       "\n",
       "[1 rows x 25 columns]"
      ]
     },
     "execution_count": 14,
     "metadata": {},
     "output_type": "execute_result"
    }
   ],
   "source": [
    "eeg.result"
   ]
  },
  {
   "cell_type": "code",
   "execution_count": 31,
   "metadata": {},
   "outputs": [
    {
     "data": {
      "text/html": [
       "<div>\n",
       "<style>\n",
       "    .dataframe thead tr:only-child th {\n",
       "        text-align: right;\n",
       "    }\n",
       "\n",
       "    .dataframe thead th {\n",
       "        text-align: left;\n",
       "    }\n",
       "\n",
       "    .dataframe tbody tr th {\n",
       "        vertical-align: top;\n",
       "    }\n",
       "</style>\n",
       "<table border=\"1\" class=\"dataframe\">\n",
       "  <thead>\n",
       "    <tr style=\"text-align: right;\">\n",
       "      <th></th>\n",
       "      <th>Algo time</th>\n",
       "      <th>Accuracy 0</th>\n",
       "      <th>Precision 0</th>\n",
       "      <th>Recall 0</th>\n",
       "      <th>F1-score 0</th>\n",
       "      <th>Accuracy 1</th>\n",
       "      <th>Precision 1</th>\n",
       "      <th>Recall 1</th>\n",
       "      <th>F1-score 1</th>\n",
       "      <th>Accuracy 2</th>\n",
       "      <th>...</th>\n",
       "      <th>Recall 3</th>\n",
       "      <th>F1-score 3</th>\n",
       "      <th>Accuracy 4</th>\n",
       "      <th>Precision 4</th>\n",
       "      <th>Recall 4</th>\n",
       "      <th>F1-score 4</th>\n",
       "      <th>Accuracy 5</th>\n",
       "      <th>Precision 5</th>\n",
       "      <th>Recall 5</th>\n",
       "      <th>F1-score 5</th>\n",
       "    </tr>\n",
       "  </thead>\n",
       "  <tbody>\n",
       "    <tr>\n",
       "      <th>Kalman Filter - LogReg</th>\n",
       "      <td>328.67</td>\n",
       "      <td>53.36</td>\n",
       "      <td>56.02</td>\n",
       "      <td>31.25</td>\n",
       "      <td>40.12</td>\n",
       "      <td>59.4</td>\n",
       "      <td>60.89</td>\n",
       "      <td>52.53</td>\n",
       "      <td>56.4</td>\n",
       "      <td>56.44</td>\n",
       "      <td>...</td>\n",
       "      <td>53.68</td>\n",
       "      <td>54.38</td>\n",
       "      <td>55.37</td>\n",
       "      <td>54.57</td>\n",
       "      <td>64.05</td>\n",
       "      <td>58.93</td>\n",
       "      <td>53.1</td>\n",
       "      <td>53.02</td>\n",
       "      <td>54.43</td>\n",
       "      <td>53.72</td>\n",
       "    </tr>\n",
       "  </tbody>\n",
       "</table>\n",
       "<p>1 rows × 25 columns</p>\n",
       "</div>"
      ],
      "text/plain": [
       "                        Algo time  Accuracy 0  Precision 0  Recall 0  \\\n",
       "Kalman Filter - LogReg     328.67       53.36        56.02     31.25   \n",
       "\n",
       "                        F1-score 0  Accuracy 1  Precision 1  Recall 1  \\\n",
       "Kalman Filter - LogReg       40.12        59.4        60.89     52.53   \n",
       "\n",
       "                        F1-score 1  Accuracy 2     ...      Recall 3  \\\n",
       "Kalman Filter - LogReg        56.4       56.44     ...         53.68   \n",
       "\n",
       "                        F1-score 3  Accuracy 4  Precision 4  Recall 4  \\\n",
       "Kalman Filter - LogReg       54.38       55.37        54.57     64.05   \n",
       "\n",
       "                        F1-score 4  Accuracy 5  Precision 5  Recall 5  \\\n",
       "Kalman Filter - LogReg       58.93        53.1        53.02     54.43   \n",
       "\n",
       "                        F1-score 5  \n",
       "Kalman Filter - LogReg       53.72  \n",
       "\n",
       "[1 rows x 25 columns]"
      ]
     },
     "execution_count": 31,
     "metadata": {},
     "output_type": "execute_result"
    }
   ],
   "source": [
    "eeg.result"
   ]
  },
  {
   "cell_type": "code",
   "execution_count": 21,
   "metadata": {},
   "outputs": [
    {
     "data": {
      "text/html": [
       "<div>\n",
       "<style>\n",
       "    .dataframe thead tr:only-child th {\n",
       "        text-align: right;\n",
       "    }\n",
       "\n",
       "    .dataframe thead th {\n",
       "        text-align: left;\n",
       "    }\n",
       "\n",
       "    .dataframe tbody tr th {\n",
       "        vertical-align: top;\n",
       "    }\n",
       "</style>\n",
       "<table border=\"1\" class=\"dataframe\">\n",
       "  <thead>\n",
       "    <tr style=\"text-align: right;\">\n",
       "      <th></th>\n",
       "      <th>Algo time</th>\n",
       "      <th>Accuracy 0</th>\n",
       "      <th>Precision 0</th>\n",
       "      <th>Recall 0</th>\n",
       "      <th>F1-score 0</th>\n",
       "      <th>Accuracy 1</th>\n",
       "      <th>Precision 1</th>\n",
       "      <th>Recall 1</th>\n",
       "      <th>F1-score 1</th>\n",
       "      <th>Accuracy 2</th>\n",
       "      <th>...</th>\n",
       "      <th>Recall 3</th>\n",
       "      <th>F1-score 3</th>\n",
       "      <th>Accuracy 4</th>\n",
       "      <th>Precision 4</th>\n",
       "      <th>Recall 4</th>\n",
       "      <th>F1-score 4</th>\n",
       "      <th>Accuracy 5</th>\n",
       "      <th>Precision 5</th>\n",
       "      <th>Recall 5</th>\n",
       "      <th>F1-score 5</th>\n",
       "    </tr>\n",
       "  </thead>\n",
       "  <tbody>\n",
       "    <tr>\n",
       "      <th>Kalman Filter 2 - LogReg</th>\n",
       "      <td>652.62</td>\n",
       "      <td>54.0</td>\n",
       "      <td>56.51</td>\n",
       "      <td>34.76</td>\n",
       "      <td>43.05</td>\n",
       "      <td>59.27</td>\n",
       "      <td>60.77</td>\n",
       "      <td>52.33</td>\n",
       "      <td>56.24</td>\n",
       "      <td>57.31</td>\n",
       "      <td>...</td>\n",
       "      <td>52.94</td>\n",
       "      <td>54.06</td>\n",
       "      <td>54.86</td>\n",
       "      <td>54.15</td>\n",
       "      <td>63.4</td>\n",
       "      <td>58.41</td>\n",
       "      <td>52.28</td>\n",
       "      <td>52.18</td>\n",
       "      <td>54.67</td>\n",
       "      <td>53.39</td>\n",
       "    </tr>\n",
       "  </tbody>\n",
       "</table>\n",
       "<p>1 rows × 25 columns</p>\n",
       "</div>"
      ],
      "text/plain": [
       "                          Algo time  Accuracy 0  Precision 0  Recall 0  \\\n",
       "Kalman Filter 2 - LogReg     652.62        54.0        56.51     34.76   \n",
       "\n",
       "                          F1-score 0  Accuracy 1  Precision 1  Recall 1  \\\n",
       "Kalman Filter 2 - LogReg       43.05       59.27        60.77     52.33   \n",
       "\n",
       "                          F1-score 1  Accuracy 2     ...      Recall 3  \\\n",
       "Kalman Filter 2 - LogReg       56.24       57.31     ...         52.94   \n",
       "\n",
       "                          F1-score 3  Accuracy 4  Precision 4  Recall 4  \\\n",
       "Kalman Filter 2 - LogReg       54.06       54.86        54.15      63.4   \n",
       "\n",
       "                          F1-score 4  Accuracy 5  Precision 5  Recall 5  \\\n",
       "Kalman Filter 2 - LogReg       58.41       52.28        52.18     54.67   \n",
       "\n",
       "                          F1-score 5  \n",
       "Kalman Filter 2 - LogReg       53.39  \n",
       "\n",
       "[1 rows x 25 columns]"
      ]
     },
     "execution_count": 21,
     "metadata": {},
     "output_type": "execute_result"
    }
   ],
   "source": [
    "eeg.result"
   ]
  },
  {
   "cell_type": "markdown",
   "metadata": {},
   "source": [
    "algo time is not nul since we need to load the data from the data path in memory which takes a few minutes."
   ]
  },
  {
   "cell_type": "markdown",
   "metadata": {},
   "source": [
    "as we can see, the features can't be used directly. The classifer works slightly better than a person making a random guess."
   ]
  },
  {
   "cell_type": "markdown",
   "metadata": {},
   "source": [
    "# Saving it"
   ]
  },
  {
   "cell_type": "markdown",
   "metadata": {},
   "source": [
    "Saving the result is crucial as it makes it easier to make comparisons of different models without running the whole pipeline as it takes ages to run."
   ]
  },
  {
   "cell_type": "code",
   "execution_count": 32,
   "metadata": {
    "collapsed": true
   },
   "outputs": [],
   "source": [
    "path_to_save = os.path.join(project_path, 'Results')"
   ]
  },
  {
   "cell_type": "code",
   "execution_count": 33,
   "metadata": {
    "collapsed": true
   },
   "outputs": [],
   "source": [
    "file_name = eeg.result.index[0]"
   ]
  },
  {
   "cell_type": "code",
   "execution_count": 34,
   "metadata": {
    "collapsed": true
   },
   "outputs": [],
   "source": [
    "eeg.save_json(os.path.join(path_to_save, file_name+'.json'))"
   ]
  },
  {
   "cell_type": "markdown",
   "metadata": {},
   "source": [
    "# Random forest "
   ]
  },
  {
   "cell_type": "code",
   "execution_count": 19,
   "metadata": {
    "collapsed": true
   },
   "outputs": [],
   "source": [
    "pred = preds.RandForest()"
   ]
  },
  {
   "cell_type": "markdown",
   "metadata": {},
   "source": [
    "No need to optimize parameters yet. It takes too long and doesn't improve results too much. So let's impose default sklearn."
   ]
  },
  {
   "cell_type": "code",
   "execution_count": 21,
   "metadata": {
    "collapsed": true
   },
   "outputs": [],
   "source": [
    "pred.hyper_parameters_grid = {'n_estimators': [200]}"
   ]
  },
  {
   "cell_type": "code",
   "execution_count": 22,
   "metadata": {
    "scrolled": true
   },
   "outputs": [
    {
     "name": "stdout",
     "output_type": "stream",
     "text": [
      "Generating features...\n",
      "Scoring 1 out of 6...\n",
      "Best params obtained: {'n_estimators': 200}\n",
      "Scoring 2 out of 6...\n",
      "Best params obtained: {'n_estimators': 200}\n",
      "Scoring 3 out of 6...\n",
      "Best params obtained: {'n_estimators': 200}\n",
      "Scoring 4 out of 6...\n",
      "Best params obtained: {'n_estimators': 200}\n",
      "Scoring 5 out of 6...\n",
      "Best params obtained: {'n_estimators': 200}\n",
      "Scoring 6 out of 6...\n",
      "Best params obtained: {'n_estimators': 200}\n"
     ]
    },
    {
     "data": {
      "text/plain": [
       "370.3781638145447"
      ]
     },
     "execution_count": 22,
     "metadata": {},
     "output_type": "execute_result"
    }
   ],
   "source": [
    "t0 = time()\n",
    "eeg.evaluate(data_path, algorithm, pred, cv_fold=1, sub_select=1, verbose=2)\n",
    "time() - t0"
   ]
  },
  {
   "cell_type": "code",
   "execution_count": 23,
   "metadata": {},
   "outputs": [
    {
     "data": {
      "text/html": [
       "<div>\n",
       "<style>\n",
       "    .dataframe thead tr:only-child th {\n",
       "        text-align: right;\n",
       "    }\n",
       "\n",
       "    .dataframe thead th {\n",
       "        text-align: left;\n",
       "    }\n",
       "\n",
       "    .dataframe tbody tr th {\n",
       "        vertical-align: top;\n",
       "    }\n",
       "</style>\n",
       "<table border=\"1\" class=\"dataframe\">\n",
       "  <thead>\n",
       "    <tr style=\"text-align: right;\">\n",
       "      <th></th>\n",
       "      <th>Algo time</th>\n",
       "      <th>Accuracy 0</th>\n",
       "      <th>Precision 0</th>\n",
       "      <th>Recall 0</th>\n",
       "      <th>F1-score 0</th>\n",
       "      <th>Accuracy 1</th>\n",
       "      <th>Precision 1</th>\n",
       "      <th>Recall 1</th>\n",
       "      <th>F1-score 1</th>\n",
       "      <th>Accuracy 2</th>\n",
       "      <th>...</th>\n",
       "      <th>Recall 3</th>\n",
       "      <th>F1-score 3</th>\n",
       "      <th>Accuracy 4</th>\n",
       "      <th>Precision 4</th>\n",
       "      <th>Recall 4</th>\n",
       "      <th>F1-score 4</th>\n",
       "      <th>Accuracy 5</th>\n",
       "      <th>Precision 5</th>\n",
       "      <th>Recall 5</th>\n",
       "      <th>F1-score 5</th>\n",
       "    </tr>\n",
       "  </thead>\n",
       "  <tbody>\n",
       "    <tr>\n",
       "      <th>Raw data - RandForest</th>\n",
       "      <td>10.64</td>\n",
       "      <td>50.52</td>\n",
       "      <td>50.87</td>\n",
       "      <td>30.46</td>\n",
       "      <td>38.1</td>\n",
       "      <td>54.33</td>\n",
       "      <td>57.54</td>\n",
       "      <td>33.03</td>\n",
       "      <td>41.97</td>\n",
       "      <td>55.8</td>\n",
       "      <td>...</td>\n",
       "      <td>45.86</td>\n",
       "      <td>49.86</td>\n",
       "      <td>52.38</td>\n",
       "      <td>52.92</td>\n",
       "      <td>43.21</td>\n",
       "      <td>47.57</td>\n",
       "      <td>52.11</td>\n",
       "      <td>52.84</td>\n",
       "      <td>39.33</td>\n",
       "      <td>45.1</td>\n",
       "    </tr>\n",
       "  </tbody>\n",
       "</table>\n",
       "<p>1 rows × 25 columns</p>\n",
       "</div>"
      ],
      "text/plain": [
       "                       Algo time  Accuracy 0  Precision 0  Recall 0  \\\n",
       "Raw data - RandForest      10.64       50.52        50.87     30.46   \n",
       "\n",
       "                       F1-score 0  Accuracy 1  Precision 1  Recall 1  \\\n",
       "Raw data - RandForest        38.1       54.33        57.54     33.03   \n",
       "\n",
       "                       F1-score 1  Accuracy 2     ...      Recall 3  \\\n",
       "Raw data - RandForest       41.97        55.8     ...         45.86   \n",
       "\n",
       "                       F1-score 3  Accuracy 4  Precision 4  Recall 4  \\\n",
       "Raw data - RandForest       49.86       52.38        52.92     43.21   \n",
       "\n",
       "                       F1-score 4  Accuracy 5  Precision 5  Recall 5  \\\n",
       "Raw data - RandForest       47.57       52.11        52.84     39.33   \n",
       "\n",
       "                       F1-score 5  \n",
       "Raw data - RandForest        45.1  \n",
       "\n",
       "[1 rows x 25 columns]"
      ]
     },
     "execution_count": 23,
     "metadata": {},
     "output_type": "execute_result"
    }
   ],
   "source": [
    "eeg.result"
   ]
  },
  {
   "cell_type": "markdown",
   "metadata": {},
   "source": [
    "The scores remain still barely above what a random classifier would do."
   ]
  },
  {
   "cell_type": "code",
   "execution_count": 24,
   "metadata": {
    "collapsed": true
   },
   "outputs": [],
   "source": [
    "file_name = eeg.result.index[0]"
   ]
  },
  {
   "cell_type": "code",
   "execution_count": 25,
   "metadata": {
    "collapsed": true
   },
   "outputs": [],
   "source": [
    "eeg.save_json(os.path.join(path_to_save, file_name+'.json'))"
   ]
  },
  {
   "cell_type": "markdown",
   "metadata": {},
   "source": [
    "# Finer control (if necessary)"
   ]
  },
  {
   "cell_type": "markdown",
   "metadata": {},
   "source": [
    "As the labels are not balanced, you may want to balance them manually to help the classifier"
   ]
  },
  {
   "cell_type": "code",
   "execution_count": null,
   "metadata": {
    "collapsed": true
   },
   "outputs": [],
   "source": [
    "features = eeg.generate_features(data_path, algorithm)"
   ]
  },
  {
   "cell_type": "markdown",
   "metadata": {},
   "source": [
    "You may modify the features. Though please note that the score function needs y_train and y_test as a vector."
   ]
  },
  {
   "cell_type": "markdown",
   "metadata": {},
   "source": [
    "Thus you still need to do as in the evaluation protocol:"
   ]
  },
  {
   "cell_type": "code",
   "execution_count": null,
   "metadata": {
    "collapsed": true
   },
   "outputs": [],
   "source": [
    "y_train = features['y_train']\n",
    "y_test = features['y_test']\n",
    "\n",
    "# Let's say you want to see the scores for the 1st task:\n",
    "j = 0\n",
    "features['y_train'] = y_train[:, 0]\n",
    "features['y_test'] = y_test[:, 0]"
   ]
  },
  {
   "cell_type": "code",
   "execution_count": null,
   "metadata": {
    "collapsed": true
   },
   "outputs": [],
   "source": [
    "scores, best_params = eeg.score_features(features, pred, cv_fold=1, verbose=2)"
   ]
  }
 ],
 "metadata": {
  "kernelspec": {
   "display_name": "Python 3",
   "language": "python",
   "name": "python3"
  },
  "language_info": {
   "codemirror_mode": {
    "name": "ipython",
    "version": 3
   },
   "file_extension": ".py",
   "mimetype": "text/x-python",
   "name": "python",
   "nbconvert_exporter": "python",
   "pygments_lexer": "ipython3",
   "version": "3.6.3"
  }
 },
 "nbformat": 4,
 "nbformat_minor": 2
}
